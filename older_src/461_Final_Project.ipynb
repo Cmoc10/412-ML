{
  "nbformat": 4,
  "nbformat_minor": 0,
  "metadata": {
    "colab": {
      "provenance": [],
      "gpuType": "T4"
    },
    "kernelspec": {
      "name": "python3",
      "display_name": "Python 3"
    },
    "language_info": {
      "name": "python"
    },
    "accelerator": "GPU"
  },
  "cells": [
    {
      "cell_type": "markdown",
      "source": [
        "# Imports Needed"
      ],
      "metadata": {
        "id": "aPQA0uOmbogr"
      }
    },
    {
      "cell_type": "code",
      "execution_count": 1,
      "metadata": {
        "id": "54u9H6eLd9zv"
      },
      "outputs": [],
      "source": [
        "#Imports needed\n",
        "import pandas as pd\n",
        "import numpy as np\n",
        "from sklearn.model_selection import train_test_split\n",
        "from sklearn.preprocessing import StandardScaler\n",
        "from sklearn.cluster import KMeans\n",
        "from sklearn.linear_model import LogisticRegression\n",
        "from sklearn.metrics import accuracy_score, classification_report\n",
        "import matplotlib.pyplot as plt\n",
        "import seaborn as sns\n",
        "import torch\n",
        "import torch.nn as nn\n",
        "import torch.optim as optim\n",
        "from torch.utils.data import DataLoader, TensorDataset\n",
        "from sklearn.preprocessing import LabelEncoder\n",
        "import torch.nn.functional as F\n",
        "from sklearn.base import BaseEstimator, ClassifierMixin  # Add this line"
      ]
    },
    {
      "cell_type": "markdown",
      "source": [
        "# Get Data\n"
      ],
      "metadata": {
        "id": "ar5y6mpUbt95"
      }
    },
    {
      "cell_type": "code",
      "source": [
        "#Download Academic Success Dataset\n",
        "#train data\n",
        "df = pd.read_csv('train.csv')\n",
        "\n",
        "#convert targets to numeric\n",
        "df['Target'] = df['Target'].map({'Dropout': 0, 'Graduate': 1, 'Enrolled': 2})\n",
        "\n",
        "#drop target\n",
        "X = df.drop('Target', axis=1)\n",
        "y = df['Target']\n",
        "\n",
        "#Split into train test and validation splits\n",
        "X_temp, X_test, y_temp, y_test = train_test_split(X, y, test_size=0.2, random_state=42)\n",
        "X_train, X_val, y_train, y_val = train_test_split(X_temp, y_temp, test_size=0.25, random_state=42)\n",
        "\n",
        "print(f\"Training set size: {len(X_train)}\")\n",
        "print(f\"Validation set size: {len(X_val)}\")\n",
        "print(f\"Test set size: {len(X_test)}\")\n"
      ],
      "metadata": {
        "id": "B-m9bZu1hTjP",
        "colab": {
          "base_uri": "https://localhost:8080/"
        },
        "outputId": "c0db35e7-5492-4eae-efd7-60f4c91ffa07"
      },
      "execution_count": null,
      "outputs": [
        {
          "output_type": "stream",
          "name": "stdout",
          "text": [
            "Training set size: 45910\n",
            "Validation set size: 15304\n",
            "Test set size: 15304\n"
          ]
        }
      ]
    },
    {
      "cell_type": "code",
      "source": [
        "print(\"Initial data types:\")\n",
        "print(f\"X_train type: {type(X_train)}\")\n",
        "print(f\"y_train type: {type(y_train)}\")\n",
        "\n",
        "#Scale Data\n",
        "X_train_np = X_train.to_numpy()\n",
        "scaler = StandardScaler()\n",
        "X_train_scaled = scaler.fit_transform(X_train_np)\n",
        "X_train = torch.FloatTensor(X_train_scaled)\n",
        "\n",
        "# Convert y_train from pandas Series to tensor\n",
        "y_train = torch.LongTensor(y_train.values)\n",
        "\n",
        "print(\"\\nFinal tensor shapes:\")\n",
        "print(f\"X_train shape: {X_train.shape}\")\n",
        "print(f\"y_train shape: {y_train.shape}\")"
      ],
      "metadata": {
        "id": "vspy6wZd3HfW",
        "colab": {
          "base_uri": "https://localhost:8080/"
        },
        "outputId": "d7e35f29-e905-4161-c266-f1cc994d55f9"
      },
      "execution_count": null,
      "outputs": [
        {
          "output_type": "stream",
          "name": "stdout",
          "text": [
            "Initial data types:\n",
            "X_train type: <class 'pandas.core.frame.DataFrame'>\n",
            "y_train type: <class 'pandas.core.series.Series'>\n",
            "\n",
            "Final tensor shapes:\n",
            "X_train shape: torch.Size([45910, 37])\n",
            "y_train shape: torch.Size([45910])\n"
          ]
        }
      ]
    },
    {
      "cell_type": "code",
      "source": [
        "# preprocess data\n",
        "X_val_np = X_val.values  # Convert DataFrame to numpy\n",
        "X_val_scaled = scaler.transform(X_val_np)  # Use same scaler as training data\n",
        "X_val = torch.FloatTensor(X_val_scaled)  # Convert to tensor\n",
        "y_val = torch.LongTensor(y_val.values)  # Convert to tensor\n"
      ],
      "metadata": {
        "id": "HIQ1Fa7xeFXO"
      },
      "execution_count": null,
      "outputs": []
    },
    {
      "cell_type": "markdown",
      "source": [],
      "metadata": {
        "id": "BiYOzRtyInbq"
      }
    },
    {
      "cell_type": "markdown",
      "source": [
        "#Multinomial Logistic Regresion\n",
        "\n",
        "\n",
        "\n"
      ],
      "metadata": {
        "id": "FjOm54NenFCi"
      }
    },
    {
      "cell_type": "code",
      "source": [
        "# def model\n",
        "\n",
        "class MultinomialLogisticRegression(nn.Module):\n",
        "    def __init__(self, input_dim, output_dim):\n",
        "        super(MultinomialLogisticRegression, self).__init__()\n",
        "        # add dropout layer to prevent overfitting\n",
        "        self.dropout = nn.Dropout(0.3)\n",
        "        self.linear = nn.Linear(input_dim, output_dim)\n",
        "\n",
        "\n",
        "        #initalize weights\n",
        "        nn.init.xavier_uniform_(self.linear.weight)\n",
        "        nn.init.zeros_(self.linear.bias)\n",
        "\n",
        "\n",
        "    def forward(self, x):\n",
        "        return self.linear(x)\n"
      ],
      "metadata": {
        "id": "ZDSg8Zv4mT-J"
      },
      "execution_count": null,
      "outputs": []
    },
    {
      "cell_type": "code",
      "source": [
        "# Define hyperparameters\n",
        "n_epochs = 500 #fine tuned to 5000 since acc platues to ~80 %\n",
        "learning_rate = 0.1 #fined tuned\n",
        "\n",
        "# Initialize model\n",
        "model = MultinomialLogisticRegression(input_dim=X_train.shape[1], output_dim=3)\n",
        "criterion = nn.CrossEntropyLoss()\n",
        "optimizer = torch.optim.SGD(model.parameters(), lr=learning_rate)\n",
        "\n",
        "# Lists to store metrics\n",
        "train_losses = []\n",
        "train_accuracies = []\n",
        "\n",
        "#for early stopping\n",
        "best_val_loss = float('inf')\n",
        "patience = 10\n",
        "patience_counter = 0\n",
        "\n",
        "# Training loop\n",
        "for epoch in range(n_epochs):\n",
        "    # Set model to training mode\n",
        "    model.train()\n",
        "\n",
        "    # Forward pass\n",
        "    outputs = model(X_train)\n",
        "    loss = criterion(outputs, y_train)\n",
        "\n",
        "    # Calculate accuracy\n",
        "    _, predicted = torch.max(outputs.data, 1)\n",
        "    correct = (predicted == y_train).sum().item()\n",
        "    accuracy = correct / len(y_train)\n",
        "\n",
        "    # Backward pass and optimization\n",
        "    optimizer.zero_grad()\n",
        "    loss.backward()\n",
        "    optimizer.step()\n",
        "\n",
        "    # Store metrics\n",
        "    train_losses.append(loss.item())\n",
        "    train_accuracies.append(accuracy)\n",
        "\n",
        "    #print every 50 epochs\n",
        "    if (epoch + 1) % 50 == 0:\n",
        "        print(f'Epoch [{epoch+1}/{n_epochs}], Loss: {loss.item():.4f}, Accuracy: {100*accuracy:.2f}%')\n",
        "\n",
        "    #validation phase\n",
        "    model.eval()\n",
        "    with torch.no_grad():\n",
        "        val_outputs = model(X_val)\n",
        "        val_loss = criterion(val_outputs, y_val)\n",
        "\n",
        "    if val_loss < best_val_loss:\n",
        "        best_val_loss = val_loss\n",
        "        patience_counter = 0\n",
        "        # Save best model\n",
        "        torch.save(model.state_dict(), 'best_model.pth')\n",
        "    else:\n",
        "        patience_counter += 1\n",
        "\n",
        "    if patience_counter >= patience:\n",
        "        print(f'Early stopping at epoch {epoch}')\n",
        "        break\n",
        "\n",
        "model.load_state_dict(torch.load('best_model.pth'))\n",
        "\n"
      ],
      "metadata": {
        "id": "Kb8alDl_nZPv",
        "colab": {
          "base_uri": "https://localhost:8080/"
        },
        "outputId": "07fb539f-8911-44b2-edff-c107106cb0a7"
      },
      "execution_count": null,
      "outputs": [
        {
          "output_type": "stream",
          "name": "stdout",
          "text": [
            "Epoch [50/500], Loss: 0.5740, Accuracy: 77.71%\n",
            "Epoch [100/500], Loss: 0.5211, Accuracy: 79.63%\n",
            "Epoch [150/500], Loss: 0.5069, Accuracy: 80.17%\n",
            "Epoch [200/500], Loss: 0.5002, Accuracy: 80.49%\n",
            "Epoch [250/500], Loss: 0.4963, Accuracy: 80.63%\n",
            "Epoch [300/500], Loss: 0.4936, Accuracy: 80.75%\n",
            "Epoch [350/500], Loss: 0.4916, Accuracy: 80.81%\n",
            "Epoch [400/500], Loss: 0.4901, Accuracy: 80.89%\n",
            "Epoch [450/500], Loss: 0.4889, Accuracy: 80.91%\n",
            "Epoch [500/500], Loss: 0.4879, Accuracy: 80.97%\n"
          ]
        },
        {
          "output_type": "stream",
          "name": "stderr",
          "text": [
            "<ipython-input-42-82f4182b35f7>:64: FutureWarning: You are using `torch.load` with `weights_only=False` (the current default value), which uses the default pickle module implicitly. It is possible to construct malicious pickle data which will execute arbitrary code during unpickling (See https://github.com/pytorch/pytorch/blob/main/SECURITY.md#untrusted-models for more details). In a future release, the default value for `weights_only` will be flipped to `True`. This limits the functions that could be executed during unpickling. Arbitrary objects will no longer be allowed to be loaded via this mode unless they are explicitly allowlisted by the user via `torch.serialization.add_safe_globals`. We recommend you start setting `weights_only=True` for any use case where you don't have full control of the loaded file. Please open an issue on GitHub for any issues related to this experimental feature.\n",
            "  model.load_state_dict(torch.load('best_model.pth'))\n"
          ]
        },
        {
          "output_type": "execute_result",
          "data": {
            "text/plain": [
              "<All keys matched successfully>"
            ]
          },
          "metadata": {},
          "execution_count": 42
        }
      ]
    },
    {
      "cell_type": "code",
      "source": [
        "#model eval\n",
        "model.eval()\n",
        "with torch.no_grad():\n",
        "    outputs = model(X_train)\n",
        "    _, predicted = torch.max(outputs.data, 1)\n",
        "    accuracy = (predicted == y_train).sum().item() / len(y_train)\n",
        "    print(f'Training Accuracy: {100*accuracy:.2f}%')\n",
        "\n"
      ],
      "metadata": {
        "id": "MSXwbLi18Tzg",
        "colab": {
          "base_uri": "https://localhost:8080/"
        },
        "outputId": "37784d15-b194-4384-9fd7-fb36fc02fda1"
      },
      "execution_count": null,
      "outputs": [
        {
          "output_type": "stream",
          "name": "stdout",
          "text": [
            "Training Accuracy: 80.97%\n"
          ]
        }
      ]
    },
    {
      "cell_type": "code",
      "source": [
        "# Preprocess test data - use same scaler as training data\n",
        "X_test_np = X_test.values\n",
        "X_test_scaled = scaler.transform(X_test_np)\n",
        "X_test = torch.FloatTensor(X_test_scaled)\n",
        "y_test = torch.LongTensor(y_test.values)\n",
        "\n",
        "# Set model to evaluation mode\n",
        "model.eval()\n",
        "\n",
        "# Evaluate on test set\n",
        "with torch.no_grad():\n",
        "    # Get model predictions\n",
        "    test_outputs = model(X_test)\n",
        "    test_loss = criterion(test_outputs, y_test)\n",
        "\n",
        "    # Calculate accuracy\n",
        "    _, predicted = torch.max(test_outputs.data, 1)\n",
        "    test_accuracy = (predicted == y_test).sum().item() / len(y_test)\n",
        "\n",
        "    # Get probabilities\n",
        "    probabilities = F.softmax(test_outputs, dim=1)\n",
        "\n",
        "print('\\nTest Set Results:')\n",
        "print(f'Test Loss: {test_loss:.4f}')\n",
        "print(f'Test Accuracy: {100*test_accuracy:.2f}%')\n",
        "\n",
        "# Create confusion matrix\n",
        "from sklearn.metrics import confusion_matrix, classification_report\n",
        "import seaborn as sns\n",
        "\n",
        "# Calculate and plot confusion matrix\n",
        "cm = confusion_matrix(y_test.numpy(), predicted.numpy())\n",
        "plt.figure(figsize=(10, 8))\n",
        "sns.heatmap(cm, annot=True, fmt='d', cmap='Blues')\n",
        "plt.title('Confusion Matrix on Test Set')\n",
        "plt.ylabel('True Label')\n",
        "plt.xlabel('Predicted Label')\n",
        "plt.show()\n",
        "\n",
        "# Print detailed classification report\n",
        "target_names = ['Dropout', 'Graduate', 'Enrolled']\n",
        "print('\\nClassification Report:')\n",
        "print(classification_report(y_test.numpy(), predicted.numpy(),\n",
        "                          target_names=target_names))\n",
        "\n",
        "# Show some example predictions\n",
        "print('\\nExample Predictions:')\n",
        "print('True Label | Predicted | Probabilities (Dropout, Graduate, Enrolled)')\n",
        "print('-' * 65)\n",
        "for i in range(min(10, len(y_test))):  # Show first 10 examples\n",
        "    true_label = target_names[y_test[i]]\n",
        "    pred_label = target_names[predicted[i]]\n",
        "    probs = probabilities[i].numpy()\n",
        "    print(f'{true_label:10} | {pred_label:9} | {probs[0]:.3f}, {probs[1]:.3f}, {probs[2]:.3f}')\n",
        "\n",
        "# Optional: Plot prediction probabilities distribution\n",
        "plt.figure(figsize=(12, 4))\n",
        "for i, label in enumerate(target_names):\n",
        "    plt.subplot(1, 3, i+1)\n",
        "    plt.hist(probabilities[:, i].numpy(), bins=20)\n",
        "    plt.title(f'{label} Probability Distribution')\n",
        "    plt.xlabel('Probability')\n",
        "    plt.ylabel('Count')\n",
        "plt.tight_layout()\n",
        "plt.show()"
      ],
      "metadata": {
        "id": "4Jb5cL1Ec7ap",
        "colab": {
          "base_uri": "https://localhost:8080/",
          "height": 1000
        },
        "outputId": "3b808a93-c349-4b17-9ee8-c787af11d947"
      },
      "execution_count": null,
      "outputs": [
        {
          "output_type": "stream",
          "name": "stdout",
          "text": [
            "\n",
            "Test Set Results:\n",
            "Test Loss: 0.4863\n",
            "Test Accuracy: 81.02%\n"
          ]
        },
        {
          "output_type": "display_data",
          "data": {
            "text/plain": [
              "<Figure size 1000x800 with 2 Axes>"
            ],
            "image/png": "[encoded data removed]"
          },
          "metadata": {}
        },
        {
          "output_type": "stream",
          "name": "stdout",
          "text": [
            "\n",
            "Classification Report:\n",
            "              precision    recall  f1-score   support\n",
            "\n",
            "     Dropout       0.90      0.81      0.85      5028\n",
            "    Graduate       0.82      0.93      0.87      7259\n",
            "    Enrolled       0.62      0.53      0.57      3017\n",
            "\n",
            "    accuracy                           0.81     15304\n",
            "   macro avg       0.78      0.76      0.76     15304\n",
            "weighted avg       0.81      0.81      0.81     15304\n",
            "\n",
            "\n",
            "Example Predictions:\n",
            "True Label | Predicted | Probabilities (Dropout, Graduate, Enrolled)\n",
            "-----------------------------------------------------------------\n",
            "Graduate   | Graduate  | 0.009, 0.953, 0.038\n",
            "Dropout    | Dropout   | 0.948, 0.002, 0.050\n",
            "Enrolled   | Enrolled  | 0.215, 0.262, 0.523\n",
            "Dropout    | Dropout   | 0.662, 0.212, 0.126\n",
            "Enrolled   | Graduate  | 0.079, 0.545, 0.376\n",
            "Dropout    | Dropout   | 0.999, 0.000, 0.001\n",
            "Graduate   | Graduate  | 0.024, 0.870, 0.106\n",
            "Enrolled   | Enrolled  | 0.286, 0.063, 0.652\n",
            "Graduate   | Graduate  | 0.005, 0.972, 0.023\n",
            "Enrolled   | Enrolled  | 0.156, 0.228, 0.617\n"
          ]
        },
        {
          "output_type": "display_data",
          "data": {
            "text/plain": [
              "<Figure size 1200x400 with 3 Axes>"
            ],
            "image/png": "[encoded data removed]"
          },
          "metadata": {}
        }
      ]
    },
    {
      "cell_type": "markdown",
      "source": [
        "# Gradient Boosting"
      ],
      "metadata": {
        "id": "Vtu_DWZfIse9"
      }
    },
    {
      "cell_type": "code",
      "source": [
        "from sklearn.ensemble import GradientBoostingClassifier\n",
        "\n",
        "# Initialize and train the Gradient Boosting Classifier\n",
        "gb_classifier = GradientBoostingClassifier(n_estimators=100, learning_rate=0.1, max_depth=3, random_state=42)\n",
        "gb_classifier.fit(X_train_scaled, y_train)\n",
        "\n",
        "\n",
        "# Make predictions on the training set\n",
        "y_train_pred = gb_classifier.predict(X_train_scaled)\n",
        "\n",
        "# Evaluate the model\n",
        "train_accuracy = accuracy_score(y_train, y_train_pred)\n",
        "print(f\"Training Accuracy: {train_accuracy:.4f}\")\n",
        "print(classification_report(y_train, y_train_pred))\n",
        "\n",
        "# Scale the validation data\n",
        "X_val_scaled = scaler.transform(X_val)\n",
        "\n",
        "# Make predictions on the validation set\n",
        "y_val_pred = gb_classifier.predict(X_val_scaled)\n",
        "\n",
        "# Evaluate the model on the validation set\n",
        "val_accuracy = accuracy_score(y_val, y_val_pred)\n",
        "print(f\"Validation Accuracy: {val_accuracy:.4f}\")\n",
        "print(classification_report(y_val, y_val_pred))\n",
        "\n",
        "# Scale the test data\n",
        "X_test_scaled = scaler.transform(X_test)\n",
        "y_test_pred = gb_classifier.predict(X_test_scaled)\n",
        "test_accuracy = accuracy_score(y_test, y_test_pred)\n",
        "print(f\"Test Accuracy: {test_accuracy:.4f}\")\n",
        "print(classification_report(y_test, y_test_pred))\n",
        "\n",
        "# Confusion Matrix\n",
        "from sklearn.metrics import confusion_matrix\n",
        "import seaborn as sns\n",
        "import matplotlib.pyplot as plt\n",
        "\n",
        "conf_matrix = confusion_matrix(y_test, y_test_pred)\n",
        "sns.heatmap(conf_matrix, annot=True, fmt='d', cmap='Blues')\n",
        "plt.xlabel('Predicted')\n",
        "plt.ylabel('Actual')\n",
        "plt.title('Confusion Matrix - Gradient Boosting')\n",
        "plt.show()"
      ],
      "metadata": {
        "id": "HEGukY6JMGNX",
        "colab": {
          "base_uri": "https://localhost:8080/",
          "height": 1000
        },
        "outputId": "e0861e7d-e9d3-4727-bd6d-dc461b0bb5d4"
      },
      "execution_count": null,
      "outputs": [
        {
          "output_type": "stream",
          "name": "stdout",
          "text": [
            "Training Accuracy: 0.8306\n",
            "              precision    recall  f1-score   support\n",
            "\n",
            "           0       0.90      0.83      0.87     15160\n",
            "           1       0.85      0.92      0.89     21775\n",
            "           2       0.65      0.61      0.63      8975\n",
            "\n",
            "    accuracy                           0.83     45910\n",
            "   macro avg       0.80      0.79      0.79     45910\n",
            "weighted avg       0.83      0.83      0.83     45910\n",
            "\n",
            "Validation Accuracy: 0.3338\n",
            "              precision    recall  f1-score   support\n",
            "\n",
            "           0       0.33      1.00      0.50      5108\n",
            "           1       0.00      0.00      0.00      7248\n",
            "           2       0.00      0.00      0.00      2948\n",
            "\n",
            "    accuracy                           0.33     15304\n",
            "   macro avg       0.11      0.33      0.17     15304\n",
            "weighted avg       0.11      0.33      0.17     15304\n",
            "\n",
            "Test Accuracy: 0.3285\n",
            "              precision    recall  f1-score   support\n",
            "\n",
            "           0       0.33      1.00      0.49      5028\n",
            "           1       0.00      0.00      0.00      7259\n",
            "           2       0.00      0.00      0.00      3017\n",
            "\n",
            "    accuracy                           0.33     15304\n",
            "   macro avg       0.11      0.33      0.16     15304\n",
            "weighted avg       0.11      0.33      0.16     15304\n",
            "\n"
          ]
        },
        {
          "output_type": "stream",
          "name": "stderr",
          "text": [
            "/usr/local/lib/python3.10/dist-packages/sklearn/metrics/_classification.py:1531: UndefinedMetricWarning: Precision is ill-defined and being set to 0.0 in labels with no predicted samples. Use `zero_division` parameter to control this behavior.\n",
            "  _warn_prf(average, modifier, f\"{metric.capitalize()} is\", len(result))\n",
            "/usr/local/lib/python3.10/dist-packages/sklearn/metrics/_classification.py:1531: UndefinedMetricWarning: Precision is ill-defined and being set to 0.0 in labels with no predicted samples. Use `zero_division` parameter to control this behavior.\n",
            "  _warn_prf(average, modifier, f\"{metric.capitalize()} is\", len(result))\n",
            "/usr/local/lib/python3.10/dist-packages/sklearn/metrics/_classification.py:1531: UndefinedMetricWarning: Precision is ill-defined and being set to 0.0 in labels with no predicted samples. Use `zero_division` parameter to control this behavior.\n",
            "  _warn_prf(average, modifier, f\"{metric.capitalize()} is\", len(result))\n",
            "/usr/local/lib/python3.10/dist-packages/sklearn/metrics/_classification.py:1531: UndefinedMetricWarning: Precision is ill-defined and being set to 0.0 in labels with no predicted samples. Use `zero_division` parameter to control this behavior.\n",
            "  _warn_prf(average, modifier, f\"{metric.capitalize()} is\", len(result))\n",
            "/usr/local/lib/python3.10/dist-packages/sklearn/metrics/_classification.py:1531: UndefinedMetricWarning: Precision is ill-defined and being set to 0.0 in labels with no predicted samples. Use `zero_division` parameter to control this behavior.\n",
            "  _warn_prf(average, modifier, f\"{metric.capitalize()} is\", len(result))\n",
            "/usr/local/lib/python3.10/dist-packages/sklearn/metrics/_classification.py:1531: UndefinedMetricWarning: Precision is ill-defined and being set to 0.0 in labels with no predicted samples. Use `zero_division` parameter to control this behavior.\n",
            "  _warn_prf(average, modifier, f\"{metric.capitalize()} is\", len(result))\n"
          ]
        },
        {
          "output_type": "display_data",
          "data": {
            "text/plain": [
              "<Figure size 640x480 with 2 Axes>"
            ],
            "image/png": "[encoded data removed]"
          },
          "metadata": {}
        }
      ]
    },
    {
      "cell_type": "markdown",
      "source": [
        "# Random Forest"
      ],
      "metadata": {
        "id": "Ql8MDgxyP_3F"
      }
    },
    {
      "cell_type": "code",
      "source": [
        "# prompt: Generate a random forest classifier for the data above\n",
        "\n",
        "from sklearn.ensemble import RandomForestClassifier\n",
        "\n",
        "# Initialize and train the Random Forest Classifier\n",
        "rf_classifier = RandomForestClassifier(n_estimators=100, random_state=42)\n",
        "rf_classifier.fit(X_train_scaled, y_train)\n",
        "\n",
        "# Make predictions on the training set\n",
        "y_train_pred = rf_classifier.predict(X_train_scaled)\n",
        "\n",
        "# Evaluate the model\n",
        "train_accuracy = accuracy_score(y_train, y_train_pred)\n",
        "print(f\"Training Accuracy: {train_accuracy:.4f}\")\n",
        "print(classification_report(y_train, y_train_pred))\n",
        "\n",
        "# Scale the validation data (already scaled above, but repeating for clarity)\n",
        "# X_val_scaled = scaler.transform(X_val)\n",
        "\n",
        "# Make predictions on the validation set\n",
        "y_val_pred = rf_classifier.predict(X_val_scaled)\n",
        "\n",
        "# Evaluate the model on the validation set\n",
        "val_accuracy = accuracy_score(y_val, y_val_pred)\n",
        "print(f\"Validation Accuracy: {val_accuracy:.4f}\")\n",
        "print(classification_report(y_val, y_val_pred))\n",
        "\n",
        "# Scale the test data (already scaled above, but repeating for clarity)\n",
        "# X_test_scaled = scaler.transform(X_test)\n",
        "\n",
        "# Make predictions on the test set\n",
        "y_test_pred = rf_classifier.predict(X_test_scaled)\n",
        "\n",
        "# Evaluate the model on the test set\n",
        "test_accuracy = accuracy_score(y_test, y_test_pred)\n",
        "print(f\"Test Accuracy: {test_accuracy:.4f}\")\n",
        "print(classification_report(y_test, y_test_pred))\n",
        "\n",
        "# Confusion Matrix\n",
        "conf_matrix = confusion_matrix(y_test, y_test_pred)\n",
        "sns.heatmap(conf_matrix, annot=True, fmt='d', cmap='Blues')\n",
        "plt.xlabel('Predicted')\n",
        "plt.ylabel('Actual')\n",
        "plt.title('Confusion Matrix - Random Forest')\n",
        "plt.show()"
      ],
      "metadata": {
        "id": "ES9fpEBUQChT",
        "colab": {
          "base_uri": "https://localhost:8080/",
          "height": 1000
        },
        "outputId": "afeb24d9-1444-435a-8f82-9442039b0fa0"
      },
      "execution_count": null,
      "outputs": [
        {
          "output_type": "stream",
          "name": "stdout",
          "text": [
            "Training Accuracy: 1.0000\n",
            "              precision    recall  f1-score   support\n",
            "\n",
            "           0       1.00      1.00      1.00     15160\n",
            "           1       1.00      1.00      1.00     21775\n",
            "           2       1.00      1.00      1.00      8975\n",
            "\n",
            "    accuracy                           1.00     45910\n",
            "   macro avg       1.00      1.00      1.00     45910\n",
            "weighted avg       1.00      1.00      1.00     45910\n",
            "\n",
            "Validation Accuracy: 0.3338\n",
            "              precision    recall  f1-score   support\n",
            "\n",
            "           0       0.33      1.00      0.50      5108\n",
            "           1       0.00      0.00      0.00      7248\n",
            "           2       0.00      0.00      0.00      2948\n",
            "\n",
            "    accuracy                           0.33     15304\n",
            "   macro avg       0.11      0.33      0.17     15304\n",
            "weighted avg       0.11      0.33      0.17     15304\n",
            "\n",
            "Test Accuracy: 0.3285\n",
            "              precision    recall  f1-score   support\n",
            "\n",
            "           0       0.33      1.00      0.49      5028\n",
            "           1       0.00      0.00      0.00      7259\n",
            "           2       0.00      0.00      0.00      3017\n",
            "\n",
            "    accuracy                           0.33     15304\n",
            "   macro avg       0.11      0.33      0.16     15304\n",
            "weighted avg       0.11      0.33      0.16     15304\n",
            "\n"
          ]
        },
        {
          "output_type": "stream",
          "name": "stderr",
          "text": [
            "/usr/local/lib/python3.10/dist-packages/sklearn/metrics/_classification.py:1531: UndefinedMetricWarning: Precision is ill-defined and being set to 0.0 in labels with no predicted samples. Use `zero_division` parameter to control this behavior.\n",
            "  _warn_prf(average, modifier, f\"{metric.capitalize()} is\", len(result))\n",
            "/usr/local/lib/python3.10/dist-packages/sklearn/metrics/_classification.py:1531: UndefinedMetricWarning: Precision is ill-defined and being set to 0.0 in labels with no predicted samples. Use `zero_division` parameter to control this behavior.\n",
            "  _warn_prf(average, modifier, f\"{metric.capitalize()} is\", len(result))\n",
            "/usr/local/lib/python3.10/dist-packages/sklearn/metrics/_classification.py:1531: UndefinedMetricWarning: Precision is ill-defined and being set to 0.0 in labels with no predicted samples. Use `zero_division` parameter to control this behavior.\n",
            "  _warn_prf(average, modifier, f\"{metric.capitalize()} is\", len(result))\n",
            "/usr/local/lib/python3.10/dist-packages/sklearn/metrics/_classification.py:1531: UndefinedMetricWarning: Precision is ill-defined and being set to 0.0 in labels with no predicted samples. Use `zero_division` parameter to control this behavior.\n",
            "  _warn_prf(average, modifier, f\"{metric.capitalize()} is\", len(result))\n",
            "/usr/local/lib/python3.10/dist-packages/sklearn/metrics/_classification.py:1531: UndefinedMetricWarning: Precision is ill-defined and being set to 0.0 in labels with no predicted samples. Use `zero_division` parameter to control this behavior.\n",
            "  _warn_prf(average, modifier, f\"{metric.capitalize()} is\", len(result))\n",
            "/usr/local/lib/python3.10/dist-packages/sklearn/metrics/_classification.py:1531: UndefinedMetricWarning: Precision is ill-defined and being set to 0.0 in labels with no predicted samples. Use `zero_division` parameter to control this behavior.\n",
            "  _warn_prf(average, modifier, f\"{metric.capitalize()} is\", len(result))\n"
          ]
        },
        {
          "output_type": "display_data",
          "data": {
            "text/plain": [
              "<Figure size 640x480 with 2 Axes>"
            ],
            "image/png": "[encoded data removed]"
          },
          "metadata": {}
        }
      ]
    },
    {
      "cell_type": "markdown",
      "source": [
        "# Ensemble Learning"
      ],
      "metadata": {
        "id": "YP95Wi9HJK1G"
      }
    },
    {
      "source": [
        "# prompt: Generate 2 ensemble learning models for the three models above, one should be voting and the other stacking\n",
        "\n",
        "from sklearn.ensemble import VotingClassifier, StackingClassifier\n",
        "from sklearn.linear_model import LogisticRegression\n",
        "\n",
        "from sklearn.base import BaseEstimator, ClassifierMixin  # Import necessary classes\n",
        "\n",
        "# Assuming 'model', 'gb_classifier', and 'rf_classifier' are already trained\n",
        "# Wrap your PyTorch model in a scikit-learn compatible estimator using a custom class\n",
        "class PyTorchClassifierWrapper(BaseEstimator, ClassifierMixin):  # Inherit from BaseEstimator and ClassifierMixin\n",
        "    def __init__(self, model):\n",
        "        self.model = model\n",
        "\n",
        "    def fit(self, X, y):\n",
        "        return self  # No fitting needed as PyTorch model is already trained\n",
        "\n",
        "    def predict(self, X):\n",
        "        X_tensor = torch.FloatTensor(X)  # Convert to tensor\n",
        "        with torch.no_grad():\n",
        "            outputs = self.model(X_tensor)\n",
        "            _, predicted = torch.max(outputs.data, 1)\n",
        "        return predicted.numpy()  # Return numpy array for compatibility\n",
        "\n",
        "    def score(self, X, y): # Implement score method\n",
        "        y_pred = self.predict(X)\n",
        "        return accuracy_score(y, y_pred)\n",
        "\n",
        "# Create a wrapped version of your PyTorch model\n",
        "wrapped_model = PyTorchClassifierWrapper(model)\n",
        "estimators = [('logistic', wrapped_model), ('gb', gb_classifier), ('rf', rf_classifier)]\n",
        "\n",
        "# Voting Classifier\n",
        "voting_clf = VotingClassifier(estimators=estimators, voting='hard') #'hard' for predicted class labels\n",
        "voting_clf.fit(X_train_scaled, y_train)\n",
        "\n",
        "# Evaluate Voting Classifier\n",
        "y_pred_voting = voting_clf.predict(X_test_scaled)\n",
        "print(\"Voting Classifier Accuracy:\", accuracy_score(y_test, y_pred_voting))\n",
        "print(classification_report(y_test, y_pred_voting))\n",
        "\n",
        "# Stacking Classifier\n",
        "stacking_clf = StackingClassifier(estimators=estimators, final_estimator=LogisticRegression()) # Use logistic regression as the meta-learner\n",
        "stacking_clf.fit(X_train_scaled, y_train)\n",
        "\n",
        "# Evaluate Stacking Classifier\n",
        "y_pred_stacking = stacking_clf.predict(X_test_scaled)\n",
        "print(\"\\nStacking Classifier Accuracy:\", accuracy_score(y_test, y_pred_stacking))\n",
        "print(classification_report(y_test, y_pred_stacking))"
      ],
      "cell_type": "code",
      "metadata": {
        "colab": {
          "base_uri": "https://localhost:8080/"
        },
        "id": "EHH4n4ypQvPO",
        "outputId": "911951c2-4eed-4f18-96cd-143ce7dabb25"
      },
      "execution_count": null,
      "outputs": [
        {
          "output_type": "stream",
          "name": "stdout",
          "text": [
            "Voting Classifier Accuracy: 0.3285415577626764\n",
            "              precision    recall  f1-score   support\n",
            "\n",
            "           0       0.33      1.00      0.49      5028\n",
            "           1       0.00      0.00      0.00      7259\n",
            "           2       0.00      0.00      0.00      3017\n",
            "\n",
            "    accuracy                           0.33     15304\n",
            "   macro avg       0.11      0.33      0.16     15304\n",
            "weighted avg       0.11      0.33      0.16     15304\n",
            "\n"
          ]
        },
        {
          "output_type": "stream",
          "name": "stderr",
          "text": [
            "/usr/local/lib/python3.10/dist-packages/sklearn/metrics/_classification.py:1531: UndefinedMetricWarning: Precision is ill-defined and being set to 0.0 in labels with no predicted samples. Use `zero_division` parameter to control this behavior.\n",
            "  _warn_prf(average, modifier, f\"{metric.capitalize()} is\", len(result))\n",
            "/usr/local/lib/python3.10/dist-packages/sklearn/metrics/_classification.py:1531: UndefinedMetricWarning: Precision is ill-defined and being set to 0.0 in labels with no predicted samples. Use `zero_division` parameter to control this behavior.\n",
            "  _warn_prf(average, modifier, f\"{metric.capitalize()} is\", len(result))\n",
            "/usr/local/lib/python3.10/dist-packages/sklearn/metrics/_classification.py:1531: UndefinedMetricWarning: Precision is ill-defined and being set to 0.0 in labels with no predicted samples. Use `zero_division` parameter to control this behavior.\n",
            "  _warn_prf(average, modifier, f\"{metric.capitalize()} is\", len(result))\n"
          ]
        },
        {
          "output_type": "stream",
          "name": "stdout",
          "text": [
            "\n",
            "Stacking Classifier Accuracy: 0.3285415577626764\n",
            "              precision    recall  f1-score   support\n",
            "\n",
            "           0       0.33      1.00      0.49      5028\n",
            "           1       0.00      0.00      0.00      7259\n",
            "           2       0.00      0.00      0.00      3017\n",
            "\n",
            "    accuracy                           0.33     15304\n",
            "   macro avg       0.11      0.33      0.16     15304\n",
            "weighted avg       0.11      0.33      0.16     15304\n",
            "\n"
          ]
        },
        {
          "output_type": "stream",
          "name": "stderr",
          "text": [
            "/usr/local/lib/python3.10/dist-packages/sklearn/metrics/_classification.py:1531: UndefinedMetricWarning: Precision is ill-defined and being set to 0.0 in labels with no predicted samples. Use `zero_division` parameter to control this behavior.\n",
            "  _warn_prf(average, modifier, f\"{metric.capitalize()} is\", len(result))\n",
            "/usr/local/lib/python3.10/dist-packages/sklearn/metrics/_classification.py:1531: UndefinedMetricWarning: Precision is ill-defined and being set to 0.0 in labels with no predicted samples. Use `zero_division` parameter to control this behavior.\n",
            "  _warn_prf(average, modifier, f\"{metric.capitalize()} is\", len(result))\n",
            "/usr/local/lib/python3.10/dist-packages/sklearn/metrics/_classification.py:1531: UndefinedMetricWarning: Precision is ill-defined and being set to 0.0 in labels with no predicted samples. Use `zero_division` parameter to control this behavior.\n",
            "  _warn_prf(average, modifier, f\"{metric.capitalize()} is\", len(result))\n"
          ]
        }
      ]
    }
  ]
}